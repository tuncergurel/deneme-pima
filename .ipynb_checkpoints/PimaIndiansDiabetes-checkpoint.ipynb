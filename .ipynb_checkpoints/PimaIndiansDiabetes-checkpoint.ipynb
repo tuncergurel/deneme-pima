{
 "cells": [
  {
   "cell_type": "code",
   "execution_count": 1,
   "metadata": {},
   "outputs": [],
   "source": [
    "import pandas as pd\n",
    "import numpy as np\n",
    "import matplotlib.pyplot as plt"
   ]
  },
  {
   "cell_type": "code",
   "execution_count": 2,
   "metadata": {},
   "outputs": [],
   "source": [
    "data = np.loadtxt('pimaindiansdiabetes.csv', delimiter=',')"
   ]
  },
  {
   "cell_type": "code",
   "execution_count": 3,
   "metadata": {},
   "outputs": [
    {
     "data": {
      "text/plain": [
       "array([[  6.   , 148.   ,  72.   , ...,   0.627,  50.   ,   1.   ],\n",
       "       [  1.   ,  85.   ,  66.   , ...,   0.351,  31.   ,   0.   ],\n",
       "       [  8.   , 183.   ,  64.   , ...,   0.672,  32.   ,   1.   ],\n",
       "       ...,\n",
       "       [  5.   , 121.   ,  72.   , ...,   0.245,  30.   ,   0.   ],\n",
       "       [  1.   , 126.   ,  60.   , ...,   0.349,  47.   ,   1.   ],\n",
       "       [  1.   ,  93.   ,  70.   , ...,   0.315,  23.   ,   0.   ]])"
      ]
     },
     "execution_count": 3,
     "metadata": {},
     "output_type": "execute_result"
    }
   ],
   "source": [
    "data"
   ]
  },
  {
   "cell_type": "code",
   "execution_count": 3,
   "metadata": {},
   "outputs": [
    {
     "data": {
      "text/plain": [
       "numpy.ndarray"
      ]
     },
     "execution_count": 3,
     "metadata": {},
     "output_type": "execute_result"
    }
   ],
   "source": [
    "type(data)"
   ]
  },
  {
   "cell_type": "code",
   "execution_count": 5,
   "metadata": {},
   "outputs": [],
   "source": [
    "from sklearn.model_selection import train_test_split"
   ]
  },
  {
   "cell_type": "code",
   "execution_count": 6,
   "metadata": {},
   "outputs": [],
   "source": [
    "training_set_x, test_set_x, training_set_y, test_set_y = train_test_split(data[:,:8],data[:,8],test_size = 0.2)"
   ]
  },
  {
   "cell_type": "code",
   "execution_count": 7,
   "metadata": {},
   "outputs": [
    {
     "name": "stderr",
     "output_type": "stream",
     "text": [
      "Using TensorFlow backend.\n"
     ]
    }
   ],
   "source": [
    "from keras.models import Sequential\n",
    "model = Sequential()"
   ]
  },
  {
   "cell_type": "code",
   "execution_count": 8,
   "metadata": {},
   "outputs": [],
   "source": [
    "from keras.layers import Dense"
   ]
  },
  {
   "cell_type": "code",
   "execution_count": 9,
   "metadata": {},
   "outputs": [
    {
     "name": "stdout",
     "output_type": "stream",
     "text": [
      "WARNING:tensorflow:From E:\\Users\\Tuncer\\Anaconda3\\lib\\site-packages\\tensorflow\\python\\framework\\op_def_library.py:263: colocate_with (from tensorflow.python.framework.ops) is deprecated and will be removed in a future version.\n",
      "Instructions for updating:\n",
      "Colocations handled automatically by placer.\n"
     ]
    }
   ],
   "source": [
    "model.add(Dense(15, input_dim = 8,activation = 'relu'))\n",
    "model.add(Dense(15, activation= 'relu'))\n",
    "model.add(Dense(15,activation = 'relu'))\n",
    "model.add(Dense(1, activation = 'sigmoid'))"
   ]
  },
  {
   "cell_type": "code",
   "execution_count": 10,
   "metadata": {},
   "outputs": [],
   "source": [
    "model.compile(optimizer='adam',loss='binary_crossentropy',metrics=['accuracy'])"
   ]
  },
  {
   "cell_type": "code",
   "execution_count": 11,
   "metadata": {},
   "outputs": [
    {
     "name": "stdout",
     "output_type": "stream",
     "text": [
      "WARNING:tensorflow:From E:\\Users\\Tuncer\\Anaconda3\\lib\\site-packages\\tensorflow\\python\\ops\\math_ops.py:3066: to_int32 (from tensorflow.python.ops.math_ops) is deprecated and will be removed in a future version.\n",
      "Instructions for updating:\n",
      "Use tf.cast instead.\n",
      "Epoch 1/100\n",
      "614/614 [==============================] - 1s 2ms/step - loss: 2.9648 - acc: 0.6678\n",
      "Epoch 2/100\n",
      "614/614 [==============================] - 0s 68us/step - loss: 1.1237 - acc: 0.6010\n",
      "Epoch 3/100\n",
      "614/614 [==============================] - 0s 75us/step - loss: 0.7688 - acc: 0.6368\n",
      "Epoch 4/100\n",
      "614/614 [==============================] - 0s 73us/step - loss: 0.7478 - acc: 0.6564\n",
      "Epoch 5/100\n",
      "614/614 [==============================] - 0s 80us/step - loss: 0.6761 - acc: 0.6645\n",
      "Epoch 6/100\n",
      "614/614 [==============================] - 0s 78us/step - loss: 0.6580 - acc: 0.6743\n",
      "Epoch 7/100\n",
      "614/614 [==============================] - 0s 78us/step - loss: 0.6835 - acc: 0.6987\n",
      "Epoch 8/100\n",
      "614/614 [==============================] - 0s 77us/step - loss: 0.6467 - acc: 0.6808\n",
      "Epoch 9/100\n",
      "614/614 [==============================] - 0s 80us/step - loss: 0.6134 - acc: 0.7068\n",
      "Epoch 10/100\n",
      "614/614 [==============================] - 0s 85us/step - loss: 0.6257 - acc: 0.6906\n",
      "Epoch 11/100\n",
      "614/614 [==============================] - 0s 78us/step - loss: 0.6134 - acc: 0.6938\n",
      "Epoch 12/100\n",
      "614/614 [==============================] - 0s 78us/step - loss: 0.6080 - acc: 0.7117\n",
      "Epoch 13/100\n",
      "614/614 [==============================] - 0s 80us/step - loss: 0.6116 - acc: 0.6954\n",
      "Epoch 14/100\n",
      "614/614 [==============================] - 0s 80us/step - loss: 0.6090 - acc: 0.7020\n",
      "Epoch 15/100\n",
      "614/614 [==============================] - 0s 80us/step - loss: 0.6306 - acc: 0.7085\n",
      "Epoch 16/100\n",
      "614/614 [==============================] - 0s 78us/step - loss: 0.6148 - acc: 0.6938\n",
      "Epoch 17/100\n",
      "614/614 [==============================] - 0s 81us/step - loss: 0.5931 - acc: 0.7085\n",
      "Epoch 18/100\n",
      "614/614 [==============================] - 0s 83us/step - loss: 0.5789 - acc: 0.7068\n",
      "Epoch 19/100\n",
      "614/614 [==============================] - 0s 81us/step - loss: 0.5759 - acc: 0.7264\n",
      "Epoch 20/100\n",
      "614/614 [==============================] - 0s 80us/step - loss: 0.6081 - acc: 0.7182\n",
      "Epoch 21/100\n",
      "614/614 [==============================] - 0s 78us/step - loss: 0.5756 - acc: 0.7280\n",
      "Epoch 22/100\n",
      "614/614 [==============================] - 0s 80us/step - loss: 0.5645 - acc: 0.7264\n",
      "Epoch 23/100\n",
      "614/614 [==============================] - 0s 78us/step - loss: 0.5579 - acc: 0.7231\n",
      "Epoch 24/100\n",
      "614/614 [==============================] - 0s 86us/step - loss: 0.5572 - acc: 0.7231\n",
      "Epoch 25/100\n",
      "614/614 [==============================] - 0s 99us/step - loss: 0.5623 - acc: 0.7231\n",
      "Epoch 26/100\n",
      "614/614 [==============================] - 0s 65us/step - loss: 0.5889 - acc: 0.7166\n",
      "Epoch 27/100\n",
      "614/614 [==============================] - 0s 96us/step - loss: 0.5604 - acc: 0.7231\n",
      "Epoch 28/100\n",
      "614/614 [==============================] - 0s 75us/step - loss: 0.5480 - acc: 0.7280\n",
      "Epoch 29/100\n",
      "614/614 [==============================] - 0s 88us/step - loss: 0.5533 - acc: 0.7410\n",
      "Epoch 30/100\n",
      "614/614 [==============================] - 0s 80us/step - loss: 0.5635 - acc: 0.7166\n",
      "Epoch 31/100\n",
      "614/614 [==============================] - 0s 63us/step - loss: 0.5490 - acc: 0.7199\n",
      "Epoch 32/100\n",
      "614/614 [==============================] - 0s 72us/step - loss: 0.5578 - acc: 0.7150\n",
      "Epoch 33/100\n",
      "614/614 [==============================] - 0s 101us/step - loss: 0.5472 - acc: 0.7394\n",
      "Epoch 34/100\n",
      "614/614 [==============================] - 0s 88us/step - loss: 0.5573 - acc: 0.7362\n",
      "Epoch 35/100\n",
      "614/614 [==============================] - 0s 88us/step - loss: 0.5787 - acc: 0.7182\n",
      "Epoch 36/100\n",
      "614/614 [==============================] - 0s 76us/step - loss: 0.5524 - acc: 0.7215\n",
      "Epoch 37/100\n",
      "614/614 [==============================] - 0s 109us/step - loss: 0.5381 - acc: 0.7313\n",
      "Epoch 38/100\n",
      "614/614 [==============================] - 0s 83us/step - loss: 0.5620 - acc: 0.7199\n",
      "Epoch 39/100\n",
      "614/614 [==============================] - 0s 98us/step - loss: 0.5506 - acc: 0.7329\n",
      "Epoch 40/100\n",
      "614/614 [==============================] - 0s 86us/step - loss: 0.5551 - acc: 0.7101\n",
      "Epoch 41/100\n",
      "614/614 [==============================] - 0s 86us/step - loss: 0.5658 - acc: 0.7199\n",
      "Epoch 42/100\n",
      "614/614 [==============================] - 0s 77us/step - loss: 0.5662 - acc: 0.7313\n",
      "Epoch 43/100\n",
      "614/614 [==============================] - 0s 94us/step - loss: 0.5603 - acc: 0.7199\n",
      "Epoch 44/100\n",
      "614/614 [==============================] - 0s 77us/step - loss: 0.5355 - acc: 0.7296\n",
      "Epoch 45/100\n",
      "614/614 [==============================] - 0s 86us/step - loss: 0.5373 - acc: 0.7345\n",
      "Epoch 46/100\n",
      "614/614 [==============================] - 0s 80us/step - loss: 0.5634 - acc: 0.7182\n",
      "Epoch 47/100\n",
      "614/614 [==============================] - 0s 75us/step - loss: 0.5404 - acc: 0.7427\n",
      "Epoch 48/100\n",
      "614/614 [==============================] - 0s 59us/step - loss: 0.5470 - acc: 0.7313\n",
      "Epoch 49/100\n",
      "614/614 [==============================] - 0s 72us/step - loss: 0.5367 - acc: 0.7459\n",
      "Epoch 50/100\n",
      "614/614 [==============================] - 0s 60us/step - loss: 0.5415 - acc: 0.7329\n",
      "Epoch 51/100\n",
      "614/614 [==============================] - 0s 90us/step - loss: 0.5229 - acc: 0.7476\n",
      "Epoch 52/100\n",
      "614/614 [==============================] - 0s 73us/step - loss: 0.5248 - acc: 0.7362\n",
      "Epoch 53/100\n",
      "614/614 [==============================] - 0s 91us/step - loss: 0.5304 - acc: 0.7394\n",
      "Epoch 54/100\n",
      "614/614 [==============================] - 0s 88us/step - loss: 0.5262 - acc: 0.7394\n",
      "Epoch 55/100\n",
      "614/614 [==============================] - 0s 94us/step - loss: 0.5284 - acc: 0.7362\n",
      "Epoch 56/100\n",
      "614/614 [==============================] - 0s 109us/step - loss: 0.5716 - acc: 0.7150\n",
      "Epoch 57/100\n",
      "614/614 [==============================] - 0s 88us/step - loss: 0.5336 - acc: 0.7313\n",
      "Epoch 58/100\n",
      "614/614 [==============================] - 0s 83us/step - loss: 0.5429 - acc: 0.7329\n",
      "Epoch 59/100\n",
      "614/614 [==============================] - 0s 72us/step - loss: 0.5341 - acc: 0.7280\n",
      "Epoch 60/100\n",
      "614/614 [==============================] - 0s 70us/step - loss: 0.5468 - acc: 0.7443\n",
      "Epoch 61/100\n",
      "614/614 [==============================] - 0s 72us/step - loss: 0.5243 - acc: 0.7362\n",
      "Epoch 62/100\n",
      "614/614 [==============================] - 0s 68us/step - loss: 0.5483 - acc: 0.7248\n",
      "Epoch 63/100\n",
      "614/614 [==============================] - 0s 67us/step - loss: 0.5538 - acc: 0.7362\n",
      "Epoch 64/100\n",
      "614/614 [==============================] - 0s 104us/step - loss: 0.5731 - acc: 0.7231\n",
      "Epoch 65/100\n",
      "614/614 [==============================] - 0s 88us/step - loss: 0.5523 - acc: 0.7068\n",
      "Epoch 66/100\n",
      "614/614 [==============================] - 0s 73us/step - loss: 0.5151 - acc: 0.7427\n",
      "Epoch 67/100\n",
      "614/614 [==============================] - 0s 107us/step - loss: 0.5284 - acc: 0.7329\n",
      "Epoch 68/100\n",
      "614/614 [==============================] - 0s 96us/step - loss: 0.5315 - acc: 0.7378: 0s - loss: 0.5304 - acc: 0.740\n",
      "Epoch 69/100\n",
      "614/614 [==============================] - 0s 88us/step - loss: 0.5108 - acc: 0.7524\n",
      "Epoch 70/100\n",
      "614/614 [==============================] - 0s 80us/step - loss: 0.5090 - acc: 0.7508\n",
      "Epoch 71/100\n",
      "614/614 [==============================] - 0s 68us/step - loss: 0.5199 - acc: 0.7476\n",
      "Epoch 72/100\n",
      "614/614 [==============================] - 0s 70us/step - loss: 0.5257 - acc: 0.7427\n",
      "Epoch 73/100\n",
      "614/614 [==============================] - 0s 78us/step - loss: 0.5089 - acc: 0.7410\n",
      "Epoch 74/100\n",
      "614/614 [==============================] - 0s 65us/step - loss: 0.5187 - acc: 0.7296\n",
      "Epoch 75/100\n",
      "614/614 [==============================] - 0s 78us/step - loss: 0.5156 - acc: 0.7459\n",
      "Epoch 76/100\n",
      "614/614 [==============================] - 0s 80us/step - loss: 0.5080 - acc: 0.7492\n",
      "Epoch 77/100\n",
      "614/614 [==============================] - 0s 78us/step - loss: 0.5112 - acc: 0.7345\n",
      "Epoch 78/100\n",
      "614/614 [==============================] - 0s 70us/step - loss: 0.5144 - acc: 0.7378\n",
      "Epoch 79/100\n",
      "614/614 [==============================] - 0s 68us/step - loss: 0.5171 - acc: 0.7508\n",
      "Epoch 80/100\n",
      "614/614 [==============================] - 0s 73us/step - loss: 0.5182 - acc: 0.7476\n",
      "Epoch 81/100\n",
      "614/614 [==============================] - 0s 70us/step - loss: 0.5068 - acc: 0.7492\n",
      "Epoch 82/100\n",
      "614/614 [==============================] - 0s 70us/step - loss: 0.5190 - acc: 0.7427\n",
      "Epoch 83/100\n",
      "614/614 [==============================] - 0s 77us/step - loss: 0.5219 - acc: 0.7524\n",
      "Epoch 84/100\n",
      "614/614 [==============================] - 0s 59us/step - loss: 0.5191 - acc: 0.7313\n",
      "Epoch 85/100\n",
      "614/614 [==============================] - 0s 65us/step - loss: 0.5259 - acc: 0.7508\n",
      "Epoch 86/100\n",
      "614/614 [==============================] - 0s 62us/step - loss: 0.5217 - acc: 0.7345\n",
      "Epoch 87/100\n",
      "614/614 [==============================] - 0s 65us/step - loss: 0.5046 - acc: 0.7573\n",
      "Epoch 88/100\n",
      "614/614 [==============================] - 0s 76us/step - loss: 0.4998 - acc: 0.7590\n",
      "Epoch 89/100\n",
      "614/614 [==============================] - 0s 119us/step - loss: 0.5563 - acc: 0.7313\n",
      "Epoch 90/100\n",
      "614/614 [==============================] - 0s 119us/step - loss: 0.5077 - acc: 0.7557\n",
      "Epoch 91/100\n",
      "614/614 [==============================] - 0s 129us/step - loss: 0.5193 - acc: 0.7476\n",
      "Epoch 92/100\n",
      "614/614 [==============================] - 0s 75us/step - loss: 0.5070 - acc: 0.7459\n",
      "Epoch 93/100\n",
      "614/614 [==============================] - 0s 63us/step - loss: 0.4991 - acc: 0.7704\n",
      "Epoch 94/100\n",
      "614/614 [==============================] - 0s 65us/step - loss: 0.4961 - acc: 0.7476\n",
      "Epoch 95/100\n",
      "614/614 [==============================] - 0s 63us/step - loss: 0.5139 - acc: 0.7476\n",
      "Epoch 96/100\n",
      "614/614 [==============================] - 0s 65us/step - loss: 0.4941 - acc: 0.7573\n",
      "Epoch 97/100\n",
      "614/614 [==============================] - 0s 63us/step - loss: 0.5091 - acc: 0.7427\n",
      "Epoch 98/100\n",
      "614/614 [==============================] - 0s 62us/step - loss: 0.5198 - acc: 0.7280\n",
      "Epoch 99/100\n",
      "614/614 [==============================] - 0s 67us/step - loss: 0.4989 - acc: 0.7720\n",
      "Epoch 100/100\n",
      "614/614 [==============================] - 0s 88us/step - loss: 0.5101 - acc: 0.7638\n"
     ]
    },
    {
     "data": {
      "text/plain": [
       "<keras.callbacks.History at 0x2365caf72b0>"
      ]
     },
     "execution_count": 11,
     "metadata": {},
     "output_type": "execute_result"
    }
   ],
   "source": [
    "model.fit(training_set_x,training_set_y, batch_size=30,epochs=100)"
   ]
  },
  {
   "cell_type": "code",
   "execution_count": 12,
   "metadata": {},
   "outputs": [
    {
     "name": "stdout",
     "output_type": "stream",
     "text": [
      "154/154 [==============================] - 0s 876us/step\n",
      "loss : 0.6082825707150744\n",
      "acc : 0.6493506478024768\n"
     ]
    }
   ],
   "source": [
    "sonuc = model.evaluate(test_set_x,test_set_y)\n",
    "for i in range(len(sonuc)):\n",
    "    print(model.metrics_names[i],':',sonuc[i])"
   ]
  },
  {
   "cell_type": "code",
   "execution_count": 13,
   "metadata": {},
   "outputs": [],
   "source": [
    "x = np.array([[7, 110,83,31,0,35.9,1.130, 48], \n",
    "              [3, 100,75,55,2,36,1.000, 55], \n",
    "              [11,120,48,30.8,0,44.7,0.940,77]])\n"
   ]
  },
  {
   "cell_type": "code",
   "execution_count": 14,
   "metadata": {},
   "outputs": [],
   "source": [
    "deneme = model.predict(x,batch_size=1)"
   ]
  },
  {
   "cell_type": "code",
   "execution_count": 15,
   "metadata": {},
   "outputs": [
    {
     "data": {
      "text/plain": [
       "array([[0.4807527 ],\n",
       "       [0.38452005],\n",
       "       [0.5773484 ]], dtype=float32)"
      ]
     },
     "execution_count": 15,
     "metadata": {},
     "output_type": "execute_result"
    }
   ],
   "source": [
    "deneme"
   ]
  },
  {
   "cell_type": "code",
   "execution_count": 16,
   "metadata": {},
   "outputs": [
    {
     "name": "stdout",
     "output_type": "stream",
     "text": [
      "diyabetsiz\n",
      "diyabetsiz\n",
      "diyabetli\n"
     ]
    }
   ],
   "source": [
    "for i in range(len(deneme)):\n",
    "    if deneme[i,0] > 0.5:\n",
    "        print('diyabetli')\n",
    "    else:\n",
    "        print('diyabetsiz')"
   ]
  },
  {
   "cell_type": "code",
   "execution_count": null,
   "metadata": {},
   "outputs": [],
   "source": []
  },
  {
   "cell_type": "code",
   "execution_count": null,
   "metadata": {},
   "outputs": [],
   "source": []
  },
  {
   "cell_type": "code",
   "execution_count": null,
   "metadata": {},
   "outputs": [],
   "source": []
  }
 ],
 "metadata": {
  "kernelspec": {
   "display_name": "Python 3",
   "language": "python",
   "name": "python3"
  },
  "language_info": {
   "codemirror_mode": {
    "name": "ipython",
    "version": 3
   },
   "file_extension": ".py",
   "mimetype": "text/x-python",
   "name": "python",
   "nbconvert_exporter": "python",
   "pygments_lexer": "ipython3",
   "version": "3.7.3"
  }
 },
 "nbformat": 4,
 "nbformat_minor": 2
}
